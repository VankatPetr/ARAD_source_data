{
 "cells": [
  {
   "cell_type": "code",
   "execution_count": 30,
   "metadata": {},
   "outputs": [],
   "source": [
    "import pandas as pd"
   ]
  },
  {
   "cell_type": "code",
   "execution_count": 31,
   "metadata": {},
   "outputs": [],
   "source": [
    "#get data\n",
    "households = pd.read_csv(\"https://www.cnb.cz/cnb/STAT.ARADY_PKG.VYSTUP?p_period=1&p_sort=2&p_des=50&p_sestuid=27368&p_uka=1%2C2%2C3%2C4%2C5%2C6%2C7%2C8%2C9%2C10%2C11&p_strid=AABBAF&p_od=199301&p_do=201811&p_lang=EN&p_format=2&p_decsep=.\",sep='|')\n",
    "nonperforming = pd.read_csv(\"https://www.cnb.cz/cnb/STAT.ARADY_PKG.VYSTUP?p_period=1&p_sort=2&p_des=50&p_sestuid=52952&p_uka=1%2C2%2C3%2C4%2C5%2C6%2C7%2C8%2C9%2C10%2C11&p_strid=AABBAF&p_od=200201&p_do=201811&p_lang=EN&p_format=2&p_decsep=.\",sep='|')\n",
    "new_business = pd.read_csv(\"https://www.cnb.cz/cnb/STAT.ARADY_PKG.VYSTUP?p_period=1&p_sort=2&p_des=50&p_sestuid=12861&p_uka=1%2C2%2C3%2C4%2C5%2C6%2C7%2C8%2C9%2C10%2C11&p_strid=AAABAB&p_od=200401&p_do=201811&p_lang=EN&p_format=2&p_decsep=.\",sep='|')"
   ]
  },
  {
   "cell_type": "code",
   "execution_count": 32,
   "metadata": {},
   "outputs": [],
   "source": [
    "#filter last 24 periods\n",
    "households_xport=households.iloc[:25,:]\n",
    "nonperforming_xport=nonperforming.iloc[:25,:]\n",
    "new_business=new_business.iloc[:25,:]"
   ]
  },
  {
   "cell_type": "code",
   "execution_count": 33,
   "metadata": {},
   "outputs": [],
   "source": [
    "#output data\n",
    "households_xport.to_csv(r'C:\\Users\\owner\\Documents\\GitHub\\ARAD_source_data\\housholds_total.txt',index=False, sep='|')\n",
    "nonperforming_xport.to_csv(r'C:\\Users\\owner\\Documents\\GitHub\\ARAD_source_data\\housholds_nonperforming.txt',index=False, sep='|')\n",
    "new_business.to_csv(r'C:\\Users\\owner\\Documents\\GitHub\\ARAD_source_data\\housholds_new_business.txt',index=False, sep='|')"
   ]
  }
 ],
 "metadata": {
  "kernelspec": {
   "display_name": "Python 3",
   "language": "python",
   "name": "python3"
  },
  "language_info": {
   "codemirror_mode": {
    "name": "ipython",
    "version": 3
   },
   "file_extension": ".py",
   "mimetype": "text/x-python",
   "name": "python",
   "nbconvert_exporter": "python",
   "pygments_lexer": "ipython3",
   "version": "3.6.6"
  }
 },
 "nbformat": 4,
 "nbformat_minor": 2
}
